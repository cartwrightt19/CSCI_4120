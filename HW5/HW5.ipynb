{
 "cells": [
  {
   "cell_type": "markdown",
   "metadata": {},
   "source": [
    "# Homework 5 RF Accuracy Improvement\n",
    "\n",
    "This assignment is inspired by examples of Shan-Hung Wu from National Tsing Hua University.\n",
    "\n",
    "Requirement: improve the accuracy per feature of the following code from 0.03 up to at least 0.40 and accuracy should be more than 0.92\n",
    "\n",
    "Here are three hints:\n",
    "\n",
    "    You can improve the ratio by picking out or \"creating\" several features.\n",
    "    Tune hyperparameters\n",
    "    The ratio can be improved from 0.03 up to 0.47."
   ]
  },
  {
   "cell_type": "code",
   "execution_count": 2,
   "metadata": {},
   "outputs": [
    {
     "name": "stdout",
     "output_type": "stream",
     "text": [
      "(569, 30)\n",
      "Accuracy: 0.9248\n",
      "Best Parameters: {'n_estimators': 56, 'max_depth': 56}\n",
      "Accuracy: 0.9580\n",
      "Accuracy per feature: 0.4790\n"
     ]
    }
   ],
   "source": [
    "from sklearn.model_selection import train_test_split, RandomizedSearchCV\n",
    "from sklearn.datasets import load_breast_cancer\n",
    "from sklearn.metrics import accuracy_score\n",
    "from sklearn.ensemble import RandomForestClassifier\n",
    "from sklearn.decomposition import PCA\n",
    "import numpy as np\n",
    "import pandas as pd\n",
    "\n",
    "# load the breast_cancer dataset\n",
    "dataIn = load_breast_cancer()\n",
    "(X, y) = load_breast_cancer(returnX_Y=True)\n",
    "\n",
    "print(X.shape)\n",
    "\n",
    "decomp = PCA(nComponents=2)\n",
    "X = decomp.fit_transform(X)\n",
    "\n",
    "# split the data into training and testing sets\n",
    "(Xtrain, Xtest, Ytrain, Ytest) = train_test_split(X, y, testSize=0.25, randomState=42)\n",
    "\n",
    "rf = RandomForestClassifier()\n",
    "rfParams = {'n_estimators': np.linspace(1, 100, 10, dType=int),\n",
    "                'max_depth': np.linspace(1, 100, 10, dType=int)}\n",
    "randomrf = RandomizedSearchCV(rf, rfParams, cv=5, nIter=10, nJobs=-1)\n",
    "randomrf.fit(Xtrain, Ytrain)\n",
    "\n",
    "print(\"Accuracy: %.4f\" % randomrf.best_score_)\n",
    "print(\"Best Parameters:\", randomrf.best_params_)\n",
    "\n",
    "Ypred = randomrf.best_estimator_.predict(Xtest)\n",
    "\n",
    "print(\"Accuracy: %.4f\" % accuracy_score(Ytest, Ypred))\n",
    "print(\"Accuracy per feature: %.4f\" % (accuracy_score(Ytest, Ypred) / X.shape[1]))\n",
    "\n"
   ]
  },
  {
   "cell_type": "code",
   "execution_count": null,
   "metadata": {},
   "outputs": [],
   "source": []
  }
 ],
 "metadata": {
  "kernelspec": {
   "display_name": "Python 3.10.6 64-bit ('3.10.6')",
   "language": "python",
   "name": "python3"
  },
  "language_info": {
   "codemirror_mode": {
    "name": "ipython",
    "version": 3
   },
   "file_extension": ".py",
   "mimetype": "text/x-python",
   "name": "python",
   "nbconvert_exporter": "python",
   "pygments_lexer": "ipython3",
   "version": "3.10.6"
  },
  "vscode": {
   "interpreter": {
    "hash": "173760e0b50f995bdd7f1a988e1219f33238093f054c7a1032b20dae1856b6e5"
   }
  }
 },
 "nbformat": 4,
 "nbformat_minor": 2
}
