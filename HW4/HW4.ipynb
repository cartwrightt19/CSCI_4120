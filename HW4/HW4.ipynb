{
 "cells": [
  {
   "cell_type": "code",
   "execution_count": 17,
   "metadata": {},
   "outputs": [
    {
     "name": "stderr",
     "output_type": "stream",
     "text": [
      "<ipython-input-17-f172eb19c65b>:14: UserWarning: Could not infer format, so each element will be parsed individually, falling back to `dateutil`. To ensure parsing is consistent and as-expected, please specify a format.\n",
      "  counts = pd.read_csv('data_HW4/FremontBridge.csv', index_col='Date', parse_dates=True)\n"
     ]
    }
   ],
   "source": [
    "%matplotlib inline\n",
    "import matplotlib.pyplot as plt\n",
    "import seaborn as sns; sns.set()\n",
    "import numpy as np\n",
    "import pandas as pd\n",
    "from datetime import datetime as dt\n",
    "from sklearn.base import BaseEstimator, TransformerMixin\n",
    "from sklearn.linear_model import LinearRegression, Ridge, Lasso\n",
    "from sklearn.model_selection import RandomizedSearchCV, cross_val_score\n",
    "from sklearn.metrics import accuracy_score\n",
    "from scipy.stats import uniform\n",
    "\n",
    "\n",
    "counts = pd.read_csv('data_HW4/FremontBridge.csv', index_col='Date', parse_dates=True)\n",
    "weather = pd.read_csv('data_HW4/BicycleWeather.csv', index_col='DATE', parse_dates=True)\n",
    "daily = counts.resample('d').sum()\n",
    "daily['Total'] = daily.sum(axis=1)\n",
    "daily = daily[['Total']] \n",
    "\n",
    "days = ['Mon', 'Tue', 'Wed', 'Thu', 'Fri', 'Sat', 'Sun']\n",
    "for i in range(7):\n",
    "    daily[days[i]] = (daily.index.dayofweek == i).astype(float)\n",
    "\n",
    "\n",
    "from pandas.tseries.holiday import USFederalHolidayCalendar\n",
    "cal = USFederalHolidayCalendar()\n",
    "holidays = cal.holidays('2012', '2016')\n",
    "daily = daily.join(pd.Series(1, index=holidays, name='holiday'))\n",
    "\n",
    "\n",
    "daily['holiday'].fillna(0, inplace=True)\n",
    "\n",
    "\n",
    "def hours_of_daylight(date, axis=23.44, latitude=47.61):\n",
    "    \"\"\"Compute the hours of daylight for the given date\"\"\"\n",
    "    days = (date - dt(2000, 12, 21)).days\n",
    "    m = (1. - np.tan(np.radians(latitude))\n",
    "         * np.tan(np.radians(axis) * np.cos(days * 2 * np.pi / 365.25)))\n",
    "    return 24. * np.degrees(np.arccos(1 - np.clip(m, 0, 2))) / 180.\n",
    "\n",
    "daily['daylight_hrs'] = list(map(hours_of_daylight, daily.index))\n",
    "\n",
    "\n",
    "weather['TMIN'] /= 10\n",
    "weather['TMAX'] /= 10\n",
    "weather['Temp (C)'] = 0.5 * (weather['TMIN'] + weather['TMAX'])\n",
    "\n",
    "\n",
    "weather['PRCP'] /= 254\n",
    "weather['dry day'] = (weather['PRCP'] == 0).astype(int)\n",
    "\n",
    "daily = daily.join(weather[['PRCP', 'Temp (C)', 'dry day']])\n",
    "\n",
    "daily['annual'] = (daily.index - daily.index[0]).days / 365.\n",
    "\n",
    "\n",
    "daily.dropna(axis=0, how='any', inplace=True)\n",
    "\n",
    "column_names = ['Mon', 'Tue', 'Wed', 'Thu', 'Fri', 'Sat', 'Sun', 'holiday',\n",
    "                'daylight_hrs', 'PRCP', 'dry day', 'Temp (C)', 'annual']\n",
    "\n",
    "\n",
    "X = daily[column_names]\n",
    "y = daily['Total']"
   ]
  },
  {
   "cell_type": "code",
   "execution_count": 18,
   "metadata": {},
   "outputs": [
    {
     "name": "stdout",
     "output_type": "stream",
     "text": [
      "Lasso: Alpha = 0.956381635; Score = 0.769773712\n",
      "Ridge: Alpha = 0.986912928; Score = 0.769967537\n",
      "Linear Score = 0.769175292\n",
      "Best Model: Ridge\n"
     ]
    }
   ],
   "source": [
    "results = {}\n",
    "\n",
    "lsearch = RandomizedSearchCV(estimator=Lasso(tol = .01), param_distributions=param_grid, cv=10)\n",
    "lsearch.fit(X, y)\n",
    "lbest_alpha = lsearch.best_params_['alpha']\n",
    "lmean_score = lsearch.best_score_\n",
    "print('Lasso: Alpha = {:.9f}; Score = {:.9f}'.format(lbest_alpha, lmean_score))\n",
    "results['Lasso'] = lmean_score\n",
    "\n",
    "param_grid = {'alpha': uniform()}\n",
    "rsearch = RandomizedSearchCV(estimator=Ridge(), param_distributions=param_grid, cv=10)\n",
    "rsearch.fit(X, y)\n",
    "rbest_alpha = rsearch.best_params_['alpha']\n",
    "rmean_score = rsearch.best_score_\n",
    "print('Ridge: Alpha = {:.9f}; Score = {:.9f}'.format(rbest_alpha, rmean_score))\n",
    "results['Ridge'] = rmean_score\n",
    "\n",
    "model = LinearRegression(fit_intercept=False)\n",
    "model.fit(X, y)\n",
    "\n",
    "linear_cv = cross_val_score(model, X, y, cv=10)\n",
    "lrmean_score = linear_cv.mean()\n",
    "print('Linear Score = {:.9f}'.format(lrmean_score))\n",
    "results['Linear'] = lrmean_score\n",
    "\n",
    "max_score = max(results.values())\n",
    "print('Best Model: {}'.format([k for k, v in results.items() if v == max_score][0]))"
   ]
  },
  {
   "cell_type": "code",
   "execution_count": null,
   "metadata": {},
   "outputs": [],
   "source": []
  },
  {
   "cell_type": "code",
   "execution_count": null,
   "metadata": {},
   "outputs": [],
   "source": []
  }
 ],
 "metadata": {
  "anaconda-cloud": {},
  "kernelspec": {
   "display_name": "Python 3",
   "language": "python",
   "name": "python3"
  },
  "language_info": {
   "codemirror_mode": {
    "name": "ipython",
    "version": 3
   },
   "file_extension": ".py",
   "mimetype": "text/x-python",
   "name": "python",
   "nbconvert_exporter": "python",
   "pygments_lexer": "ipython3",
   "version": "3.8.10"
  },
  "vscode": {
   "interpreter": {
    "hash": "173760e0b50f995bdd7f1a988e1219f33238093f054c7a1032b20dae1856b6e5"
   }
  }
 },
 "nbformat": 4,
 "nbformat_minor": 1
}
